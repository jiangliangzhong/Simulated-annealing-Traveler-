{
 "cells": [
  {
   "cell_type": "code",
   "execution_count": 6,
   "metadata": {
    "collapsed": true
   },
   "outputs": [],
   "source": [
    "#进行数学运算\n",
    "import math\n",
    "#进行随机选择\n",
    "import random\n",
    "import matplotlib.pyplot as plt"
   ]
  },
  {
   "cell_type": "code",
   "execution_count": 7,
   "metadata": {},
   "outputs": [],
   "source": [
    "#数据集，采用中国31个城市的坐标\n",
    "data=[(1304,2312),(3639,1315),(4177,2244),(3712,1399),\n",
    "(3488,1535),(3326,1556),(3238,1229),(4196,1004),\n",
    "(4312,790),(4386,570),(3007,1970),(2562,1756),\n",
    "(2788,1491),(2381,1676),(1332,695),\n",
    "(3715,1678),(3918,2179),(4061,2370),\n",
    "(3780,2212),(3676,2578),(4029,2838),\n",
    "(4263,2931),(3429,1908),(3507,2367),\n",
    "(3394,2643),(3439,3201),(2935,3240),\n",
    "(3140,3550),(2545,2357),(2778,2826),\n",
    "(2370,2975)]\n",
    "city_cnt = 31"
   ]
  },
  {
   "cell_type": "code",
   "execution_count": 8,
   "metadata": {},
   "outputs": [],
   "source": [
    "\"\"\"\n",
    "评价函数，在旅行商问题中就是距离\n",
    "result:需要计算的结果，结果形式为城市的索引，[index1, index2, index3....]\n",
    "\"\"\"\n",
    "def calTotalDistance(result):\n",
    "    # dis_sum = 0\n",
    "    # for i in range(city_cnt-1):\n",
    "    #     # 每次计算结果中当前城市和下一个城市之间的距离\n",
    "    #     dis_sum = dis_sum + math.sqrt((data[result[i]][0] - data[result[i+1]][0])**2 + \n",
    "    #                           (data[result[i]][1] - data[result[i+1]][1])**2)\n",
    "    # return dis_sum\n",
    "    sum = 0\n",
    "    for i in range(0,30):\n",
    "        sum = sum+math.sqrt(pow((data[result[i]][0]-data[result[i+1]][0]), 2) + \n",
    "                          pow((data[result[i]][1]-data[result[i+1]][1]), 2))\n",
    "    return sum"
   ]
  },
  {
   "cell_type": "code",
   "execution_count": 9,
   "metadata": {},
   "outputs": [],
   "source": [
    "\"\"\"\n",
    "产生新解。\n",
    "新解的产生对问题的求解非常重要。这里采用比较简单的二元替换法，就是随机交换两个城市\n",
    "old_result:旧解\n",
    "\"\"\"\n",
    "\n",
    "\n",
    "def generate_new_result(old_result):\n",
    "    city1 = random.randint(0, 30)\n",
    "    city2 = random.randint(0, 30)\n",
    "    \n",
    "    # 深度复制旧结果\n",
    "    new_result = old_result[:]\n",
    "    # 交换结果中两个城市的位置\n",
    "    new_result[city1], new_result[city2] = new_result[city2], new_result[city1]\n",
    "    return new_result\n"
   ]
  },
  {
   "cell_type": "code",
   "execution_count": 10,
   "metadata": {
    "collapsed": true
   },
   "outputs": [
    {
     "name": "stdout",
     "output_type": "stream",
     "text": [
      "4900.0\n"
     ]
    },
    {
     "name": "stdout",
     "output_type": "stream",
     "text": [
      "4802.0\n"
     ]
    },
    {
     "name": "stdout",
     "output_type": "stream",
     "text": [
      "4705.96\n"
     ]
    },
    {
     "name": "stdout",
     "output_type": "stream",
     "text": [
      "4611.8408\n"
     ]
    },
    {
     "name": "stdout",
     "output_type": "stream",
     "text": [
      "4519.603984\n"
     ]
    },
    {
     "name": "stdout",
     "output_type": "stream",
     "text": [
      "4429.21190432\n"
     ]
    },
    {
     "name": "stdout",
     "output_type": "stream",
     "text": [
      "4340.6276662336\n"
     ]
    },
    {
     "name": "stdout",
     "output_type": "stream",
     "text": [
      "4253.815112908928\n"
     ]
    },
    {
     "name": "stdout",
     "output_type": "stream",
     "text": [
      "4168.73881065075\n"
     ]
    },
    {
     "name": "stdout",
     "output_type": "stream",
     "text": [
      "4085.3640344377345\n"
     ]
    },
    {
     "name": "stdout",
     "output_type": "stream",
     "text": [
      "4003.6567537489796\n"
     ]
    },
    {
     "name": "stdout",
     "output_type": "stream",
     "text": [
      "3923.583618674\n"
     ]
    },
    {
     "name": "stdout",
     "output_type": "stream",
     "text": [
      "3845.11194630052\n"
     ]
    },
    {
     "name": "stdout",
     "output_type": "stream",
     "text": [
      "3768.2097073745094\n"
     ]
    },
    {
     "name": "stdout",
     "output_type": "stream",
     "text": [
      "3692.845513227019\n"
     ]
    },
    {
     "name": "stdout",
     "output_type": "stream",
     "text": [
      "3618.9886029624786\n"
     ]
    },
    {
     "name": "stdout",
     "output_type": "stream",
     "text": [
      "3546.608830903229\n"
     ]
    },
    {
     "name": "stdout",
     "output_type": "stream",
     "text": [
      "3475.676654285164\n"
     ]
    },
    {
     "name": "stdout",
     "output_type": "stream",
     "text": [
      "3406.163121199461\n"
     ]
    },
    {
     "name": "stdout",
     "output_type": "stream",
     "text": [
      "3338.0398587754717\n"
     ]
    },
    {
     "name": "stdout",
     "output_type": "stream",
     "text": [
      "3271.279061599962\n"
     ]
    },
    {
     "name": "stdout",
     "output_type": "stream",
     "text": [
      "3205.8534803679627\n"
     ]
    },
    {
     "name": "stdout",
     "output_type": "stream",
     "text": [
      "3141.7364107606036\n"
     ]
    },
    {
     "name": "stdout",
     "output_type": "stream",
     "text": [
      "3078.9016825453914\n"
     ]
    },
    {
     "name": "stdout",
     "output_type": "stream",
     "text": [
      "3017.3236488944835\n"
     ]
    },
    {
     "name": "stdout",
     "output_type": "stream",
     "text": [
      "2956.9771759165938\n"
     ]
    },
    {
     "name": "stdout",
     "output_type": "stream",
     "text": [
      "2897.837632398262\n"
     ]
    },
    {
     "name": "stdout",
     "output_type": "stream",
     "text": [
      "2839.8808797502966\n"
     ]
    },
    {
     "name": "stdout",
     "output_type": "stream",
     "text": [
      "2783.0832621552904\n"
     ]
    },
    {
     "name": "stdout",
     "output_type": "stream",
     "text": [
      "2727.4215969121847\n"
     ]
    },
    {
     "name": "stdout",
     "output_type": "stream",
     "text": [
      "2672.873164973941\n"
     ]
    },
    {
     "name": "stdout",
     "output_type": "stream",
     "text": [
      "2619.415701674462\n"
     ]
    },
    {
     "name": "stdout",
     "output_type": "stream",
     "text": [
      "2567.027387640973\n"
     ]
    },
    {
     "name": "stdout",
     "output_type": "stream",
     "text": [
      "2515.6868398881534\n"
     ]
    },
    {
     "name": "stdout",
     "output_type": "stream",
     "text": [
      "2465.3731030903905\n"
     ]
    },
    {
     "name": "stdout",
     "output_type": "stream",
     "text": [
      "2416.065641028583\n"
     ]
    },
    {
     "name": "stdout",
     "output_type": "stream",
     "text": [
      "2367.744328208011\n"
     ]
    },
    {
     "name": "stdout",
     "output_type": "stream",
     "text": [
      "2320.389441643851\n"
     ]
    },
    {
     "name": "stdout",
     "output_type": "stream",
     "text": [
      "2273.981652810974\n"
     ]
    },
    {
     "name": "stdout",
     "output_type": "stream",
     "text": [
      "2228.5020197547547\n"
     ]
    },
    {
     "name": "stdout",
     "output_type": "stream",
     "text": [
      "2183.9319793596596\n"
     ]
    },
    {
     "name": "stdout",
     "output_type": "stream",
     "text": [
      "2140.2533397724665\n"
     ]
    },
    {
     "name": "stdout",
     "output_type": "stream",
     "text": [
      "2097.448272977017\n"
     ]
    },
    {
     "name": "stdout",
     "output_type": "stream",
     "text": [
      "2055.4993075174766\n"
     ]
    },
    {
     "name": "stdout",
     "output_type": "stream",
     "text": [
      "2014.389321367127\n"
     ]
    },
    {
     "name": "stdout",
     "output_type": "stream",
     "text": [
      "1974.1015349397844\n"
     ]
    },
    {
     "name": "stdout",
     "output_type": "stream",
     "text": [
      "1934.6195042409886\n"
     ]
    },
    {
     "name": "stdout",
     "output_type": "stream",
     "text": [
      "1895.9271141561687\n"
     ]
    },
    {
     "name": "stdout",
     "output_type": "stream",
     "text": [
      "1858.0085718730454\n"
     ]
    },
    {
     "name": "stdout",
     "output_type": "stream",
     "text": [
      "1820.8484004355844\n"
     ]
    },
    {
     "name": "stdout",
     "output_type": "stream",
     "text": [
      "1784.4314324268726\n"
     ]
    },
    {
     "name": "stdout",
     "output_type": "stream",
     "text": [
      "1748.742803778335\n"
     ]
    },
    {
     "name": "stdout",
     "output_type": "stream",
     "text": [
      "1713.7679477027682\n"
     ]
    },
    {
     "name": "stdout",
     "output_type": "stream",
     "text": [
      "1679.4925887487127\n"
     ]
    },
    {
     "name": "stdout",
     "output_type": "stream",
     "text": [
      "1645.9027369737385\n"
     ]
    },
    {
     "name": "stdout",
     "output_type": "stream",
     "text": [
      "1612.9846822342636\n"
     ]
    },
    {
     "name": "stdout",
     "output_type": "stream",
     "text": [
      "1580.7249885895783\n"
     ]
    },
    {
     "name": "stdout",
     "output_type": "stream",
     "text": [
      "1549.1104888177867\n"
     ]
    },
    {
     "name": "stdout",
     "output_type": "stream",
     "text": [
      "1518.128279041431\n"
     ]
    },
    {
     "name": "stdout",
     "output_type": "stream",
     "text": [
      "1487.7657134606022\n"
     ]
    },
    {
     "name": "stdout",
     "output_type": "stream",
     "text": [
      "1458.0103991913902\n"
     ]
    },
    {
     "name": "stdout",
     "output_type": "stream",
     "text": [
      "1428.8501912075624\n"
     ]
    },
    {
     "name": "stdout",
     "output_type": "stream",
     "text": [
      "1400.2731873834111\n"
     ]
    },
    {
     "name": "stdout",
     "output_type": "stream",
     "text": [
      "1372.2677236357429\n"
     ]
    },
    {
     "name": "stdout",
     "output_type": "stream",
     "text": [
      "1344.822369163028\n"
     ]
    },
    {
     "name": "stdout",
     "output_type": "stream",
     "text": [
      "1317.9259217797674\n"
     ]
    },
    {
     "name": "stdout",
     "output_type": "stream",
     "text": [
      "1291.567403344172\n"
     ]
    },
    {
     "name": "stdout",
     "output_type": "stream",
     "text": [
      "1265.7360552772884\n"
     ]
    },
    {
     "name": "stdout",
     "output_type": "stream",
     "text": [
      "1240.4213341717427\n"
     ]
    },
    {
     "name": "stdout",
     "output_type": "stream",
     "text": [
      "1215.6129074883079\n"
     ]
    },
    {
     "name": "stdout",
     "output_type": "stream",
     "text": [
      "1191.3006493385417\n"
     ]
    },
    {
     "name": "stdout",
     "output_type": "stream",
     "text": [
      "1167.4746363517709\n"
     ]
    },
    {
     "name": "stdout",
     "output_type": "stream",
     "text": [
      "1144.1251436247355\n"
     ]
    },
    {
     "name": "stdout",
     "output_type": "stream",
     "text": [
      "1121.2426407522407\n"
     ]
    },
    {
     "name": "stdout",
     "output_type": "stream",
     "text": [
      "1098.8177879371958\n"
     ]
    },
    {
     "name": "stdout",
     "output_type": "stream",
     "text": [
      "1076.841432178452\n"
     ]
    },
    {
     "name": "stdout",
     "output_type": "stream",
     "text": [
      "1055.3046035348827\n"
     ]
    },
    {
     "name": "stdout",
     "output_type": "stream",
     "text": [
      "1034.198511464185\n"
     ]
    },
    {
     "name": "stdout",
     "output_type": "stream",
     "text": [
      "1013.5145412349012\n"
     ]
    },
    {
     "name": "stdout",
     "output_type": "stream",
     "text": [
      "993.2442504102032\n"
     ]
    },
    {
     "name": "stdout",
     "output_type": "stream",
     "text": [
      "973.3793654019992\n"
     ]
    },
    {
     "name": "stdout",
     "output_type": "stream",
     "text": [
      "953.9117780939591\n"
     ]
    },
    {
     "name": "stdout",
     "output_type": "stream",
     "text": [
      "934.83354253208\n"
     ]
    },
    {
     "name": "stdout",
     "output_type": "stream",
     "text": [
      "916.1368716814384\n"
     ]
    },
    {
     "name": "stdout",
     "output_type": "stream",
     "text": [
      "897.8141342478096\n"
     ]
    },
    {
     "name": "stdout",
     "output_type": "stream",
     "text": [
      "879.8578515628534\n"
     ]
    },
    {
     "name": "stdout",
     "output_type": "stream",
     "text": [
      "862.2606945315963\n"
     ]
    },
    {
     "name": "stdout",
     "output_type": "stream",
     "text": [
      "845.0154806409644\n"
     ]
    },
    {
     "name": "stdout",
     "output_type": "stream",
     "text": [
      "828.115171028145\n"
     ]
    },
    {
     "name": "stdout",
     "output_type": "stream",
     "text": [
      "811.5528676075821\n"
     ]
    },
    {
     "name": "stdout",
     "output_type": "stream",
     "text": [
      "795.3218102554305\n"
     ]
    },
    {
     "name": "stdout",
     "output_type": "stream",
     "text": [
      "779.4153740503218\n"
     ]
    },
    {
     "name": "stdout",
     "output_type": "stream",
     "text": [
      "763.8270665693153\n"
     ]
    },
    {
     "name": "stdout",
     "output_type": "stream",
     "text": [
      "748.550525237929\n"
     ]
    },
    {
     "name": "stdout",
     "output_type": "stream",
     "text": [
      "733.5795147331704\n"
     ]
    },
    {
     "name": "stdout",
     "output_type": "stream",
     "text": [
      "718.9079244385069\n"
     ]
    },
    {
     "name": "stdout",
     "output_type": "stream",
     "text": [
      "704.5297659497368\n"
     ]
    },
    {
     "name": "stdout",
     "output_type": "stream",
     "text": [
      "690.4391706307421\n"
     ]
    },
    {
     "name": "stdout",
     "output_type": "stream",
     "text": [
      "676.6303872181272\n"
     ]
    },
    {
     "name": "stdout",
     "output_type": "stream",
     "text": [
      "663.0977794737647\n"
     ]
    },
    {
     "name": "stdout",
     "output_type": "stream",
     "text": [
      "649.8358238842894\n"
     ]
    },
    {
     "name": "stdout",
     "output_type": "stream",
     "text": [
      "636.8391074066036\n"
     ]
    },
    {
     "name": "stdout",
     "output_type": "stream",
     "text": [
      "624.1023252584715\n"
     ]
    },
    {
     "name": "stdout",
     "output_type": "stream",
     "text": [
      "611.620278753302\n"
     ]
    },
    {
     "name": "stdout",
     "output_type": "stream",
     "text": [
      "599.387873178236\n"
     ]
    },
    {
     "name": "stdout",
     "output_type": "stream",
     "text": [
      "587.4001157146712\n"
     ]
    },
    {
     "name": "stdout",
     "output_type": "stream",
     "text": [
      "575.6521134003777\n"
     ]
    },
    {
     "name": "stdout",
     "output_type": "stream",
     "text": [
      "564.1390711323702\n"
     ]
    },
    {
     "name": "stdout",
     "output_type": "stream",
     "text": [
      "552.8562897097228\n"
     ]
    },
    {
     "name": "stdout",
     "output_type": "stream",
     "text": [
      "541.7991639155283\n"
     ]
    },
    {
     "name": "stdout",
     "output_type": "stream",
     "text": [
      "530.9631806372178\n"
     ]
    },
    {
     "name": "stdout",
     "output_type": "stream",
     "text": [
      "520.3439170244734\n"
     ]
    },
    {
     "name": "stdout",
     "output_type": "stream",
     "text": [
      "509.93703868398393\n"
     ]
    },
    {
     "name": "stdout",
     "output_type": "stream",
     "text": [
      "499.73829791030425\n"
     ]
    },
    {
     "name": "stdout",
     "output_type": "stream",
     "text": [
      "489.7435319520982\n"
     ]
    },
    {
     "name": "stdout",
     "output_type": "stream",
     "text": [
      "479.9486613130562\n"
     ]
    },
    {
     "name": "stdout",
     "output_type": "stream",
     "text": [
      "470.3496880867951\n"
     ]
    },
    {
     "name": "stdout",
     "output_type": "stream",
     "text": [
      "460.94269432505916\n"
     ]
    },
    {
     "name": "stdout",
     "output_type": "stream",
     "text": [
      "451.723840438558\n"
     ]
    },
    {
     "name": "stdout",
     "output_type": "stream",
     "text": [
      "442.68936362978684\n"
     ]
    },
    {
     "name": "stdout",
     "output_type": "stream",
     "text": [
      "433.8355763571911\n"
     ]
    },
    {
     "name": "stdout",
     "output_type": "stream",
     "text": [
      "425.15886483004726\n"
     ]
    },
    {
     "name": "stdout",
     "output_type": "stream",
     "text": [
      "416.6556875334463\n"
     ]
    },
    {
     "name": "stdout",
     "output_type": "stream",
     "text": [
      "408.3225737827774\n"
     ]
    },
    {
     "name": "stdout",
     "output_type": "stream",
     "text": [
      "400.15612230712185\n"
     ]
    },
    {
     "name": "stdout",
     "output_type": "stream",
     "text": [
      "392.1529998609794\n"
     ]
    },
    {
     "name": "stdout",
     "output_type": "stream",
     "text": [
      "384.3099398637598\n"
     ]
    },
    {
     "name": "stdout",
     "output_type": "stream",
     "text": [
      "376.62374106648457\n"
     ]
    },
    {
     "name": "stdout",
     "output_type": "stream",
     "text": [
      "369.0912662451549\n"
     ]
    },
    {
     "name": "stdout",
     "output_type": "stream",
     "text": [
      "361.7094409202518\n"
     ]
    },
    {
     "name": "stdout",
     "output_type": "stream",
     "text": [
      "354.47525210184676\n"
     ]
    },
    {
     "name": "stdout",
     "output_type": "stream",
     "text": [
      "347.38574705980983\n"
     ]
    },
    {
     "name": "stdout",
     "output_type": "stream",
     "text": [
      "340.43803211861365\n"
     ]
    },
    {
     "name": "stdout",
     "output_type": "stream",
     "text": [
      "333.62927147624134\n"
     ]
    },
    {
     "name": "stdout",
     "output_type": "stream",
     "text": [
      "326.9566860467165\n"
     ]
    },
    {
     "name": "stdout",
     "output_type": "stream",
     "text": [
      "320.4175523257822\n"
     ]
    },
    {
     "name": "stdout",
     "output_type": "stream",
     "text": [
      "314.00920127926656\n"
     ]
    },
    {
     "name": "stdout",
     "output_type": "stream",
     "text": [
      "307.7290172536812\n"
     ]
    },
    {
     "name": "stdout",
     "output_type": "stream",
     "text": [
      "301.5744369086076\n"
     ]
    },
    {
     "name": "stdout",
     "output_type": "stream",
     "text": [
      "295.54294817043547\n"
     ]
    },
    {
     "name": "stdout",
     "output_type": "stream",
     "text": [
      "289.63208920702675\n"
     ]
    },
    {
     "name": "stdout",
     "output_type": "stream",
     "text": [
      "283.8394474228862\n"
     ]
    },
    {
     "name": "stdout",
     "output_type": "stream",
     "text": [
      "278.1626584744285\n"
     ]
    },
    {
     "name": "stdout",
     "output_type": "stream",
     "text": [
      "272.5994053049399\n"
     ]
    },
    {
     "name": "stdout",
     "output_type": "stream",
     "text": [
      "267.14741719884114\n"
     ]
    },
    {
     "name": "stdout",
     "output_type": "stream",
     "text": [
      "261.8044688548643\n"
     ]
    },
    {
     "name": "stdout",
     "output_type": "stream",
     "text": [
      "256.568379477767\n"
     ]
    },
    {
     "name": "stdout",
     "output_type": "stream",
     "text": [
      "251.43701188821166\n"
     ]
    },
    {
     "name": "stdout",
     "output_type": "stream",
     "text": [
      "246.40827165044743\n"
     ]
    },
    {
     "name": "stdout",
     "output_type": "stream",
     "text": [
      "241.48010621743848\n"
     ]
    },
    {
     "name": "stdout",
     "output_type": "stream",
     "text": [
      "236.6505040930897\n"
     ]
    },
    {
     "name": "stdout",
     "output_type": "stream",
     "text": [
      "231.9174940112279\n"
     ]
    },
    {
     "name": "stdout",
     "output_type": "stream",
     "text": [
      "227.27914413100333\n"
     ]
    },
    {
     "name": "stdout",
     "output_type": "stream",
     "text": [
      "222.73356124838327\n"
     ]
    },
    {
     "name": "stdout",
     "output_type": "stream",
     "text": [
      "218.27889002341558\n"
     ]
    },
    {
     "name": "stdout",
     "output_type": "stream",
     "text": [
      "213.91331222294727\n"
     ]
    },
    {
     "name": "stdout",
     "output_type": "stream",
     "text": [
      "209.6350459784883\n"
     ]
    },
    {
     "name": "stdout",
     "output_type": "stream",
     "text": [
      "205.44234505891853\n"
     ]
    },
    {
     "name": "stdout",
     "output_type": "stream",
     "text": [
      "201.33349815774017\n"
     ]
    },
    {
     "name": "stdout",
     "output_type": "stream",
     "text": [
      "197.30682819458536\n"
     ]
    },
    {
     "name": "stdout",
     "output_type": "stream",
     "text": [
      "193.36069163069365\n"
     ]
    },
    {
     "name": "stdout",
     "output_type": "stream",
     "text": [
      "189.49347779807977\n"
     ]
    },
    {
     "name": "stdout",
     "output_type": "stream",
     "text": [
      "185.70360824211818\n"
     ]
    },
    {
     "name": "stdout",
     "output_type": "stream",
     "text": [
      "181.9895360772758\n"
     ]
    },
    {
     "name": "stdout",
     "output_type": "stream",
     "text": [
      "178.34974535573028\n"
     ]
    },
    {
     "name": "stdout",
     "output_type": "stream",
     "text": [
      "174.78275044861567\n"
     ]
    },
    {
     "name": "stdout",
     "output_type": "stream",
     "text": [
      "171.28709543964337\n"
     ]
    },
    {
     "name": "stdout",
     "output_type": "stream",
     "text": [
      "167.8613535308505\n"
     ]
    },
    {
     "name": "stdout",
     "output_type": "stream",
     "text": [
      "164.5041264602335\n"
     ]
    },
    {
     "name": "stdout",
     "output_type": "stream",
     "text": [
      "161.2140439310288\n"
     ]
    },
    {
     "name": "stdout",
     "output_type": "stream",
     "text": [
      "157.98976305240822\n"
     ]
    },
    {
     "name": "stdout",
     "output_type": "stream",
     "text": [
      "154.82996779136005\n"
     ]
    },
    {
     "name": "stdout",
     "output_type": "stream",
     "text": [
      "151.73336843553284\n"
     ]
    },
    {
     "name": "stdout",
     "output_type": "stream",
     "text": [
      "148.69870106682217\n"
     ]
    },
    {
     "name": "stdout",
     "output_type": "stream",
     "text": [
      "145.7247270454857\n"
     ]
    },
    {
     "name": "stdout",
     "output_type": "stream",
     "text": [
      "142.810232504576\n"
     ]
    },
    {
     "name": "stdout",
     "output_type": "stream",
     "text": [
      "139.95402785448448\n"
     ]
    },
    {
     "name": "stdout",
     "output_type": "stream",
     "text": [
      "137.15494729739478\n"
     ]
    },
    {
     "name": "stdout",
     "output_type": "stream",
     "text": [
      "134.41184835144688\n"
     ]
    },
    {
     "name": "stdout",
     "output_type": "stream",
     "text": [
      "131.72361138441795\n"
     ]
    },
    {
     "name": "stdout",
     "output_type": "stream",
     "text": [
      "129.0891391567296\n"
     ]
    },
    {
     "name": "stdout",
     "output_type": "stream",
     "text": [
      "126.507356373595\n"
     ]
    },
    {
     "name": "stdout",
     "output_type": "stream",
     "text": [
      "123.9772092461231\n"
     ]
    },
    {
     "name": "stdout",
     "output_type": "stream",
     "text": [
      "121.49766506120064\n"
     ]
    },
    {
     "name": "stdout",
     "output_type": "stream",
     "text": [
      "119.06771175997662\n"
     ]
    },
    {
     "name": "stdout",
     "output_type": "stream",
     "text": [
      "116.68635752477708\n"
     ]
    },
    {
     "name": "stdout",
     "output_type": "stream",
     "text": [
      "114.35263037428153\n"
     ]
    },
    {
     "name": "stdout",
     "output_type": "stream",
     "text": [
      "112.0655777667959\n"
     ]
    },
    {
     "name": "stdout",
     "output_type": "stream",
     "text": [
      "109.82426621145997\n"
     ]
    },
    {
     "name": "stdout",
     "output_type": "stream",
     "text": [
      "107.62778088723077\n"
     ]
    },
    {
     "name": "stdout",
     "output_type": "stream",
     "text": [
      "105.47522526948616\n"
     ]
    },
    {
     "name": "stdout",
     "output_type": "stream",
     "text": [
      "103.36572076409644\n"
     ]
    },
    {
     "name": "stdout",
     "output_type": "stream",
     "text": [
      "101.29840634881451\n"
     ]
    },
    {
     "name": "stdout",
     "output_type": "stream",
     "text": [
      "99.27243822183821\n"
     ]
    },
    {
     "name": "stdout",
     "output_type": "stream",
     "text": [
      "97.28698945740145\n"
     ]
    },
    {
     "name": "stdout",
     "output_type": "stream",
     "text": [
      "95.34124966825341\n"
     ]
    },
    {
     "name": "stdout",
     "output_type": "stream",
     "text": [
      "93.43442467488835\n"
     ]
    },
    {
     "name": "stdout",
     "output_type": "stream",
     "text": [
      "91.56573618139058\n"
     ]
    },
    {
     "name": "stdout",
     "output_type": "stream",
     "text": [
      "89.73442145776276\n"
     ]
    },
    {
     "name": "stdout",
     "output_type": "stream",
     "text": [
      "87.9397330286075\n"
     ]
    },
    {
     "name": "stdout",
     "output_type": "stream",
     "text": [
      "86.18093836803536\n"
     ]
    },
    {
     "name": "stdout",
     "output_type": "stream",
     "text": [
      "84.45731960067465\n"
     ]
    },
    {
     "name": "stdout",
     "output_type": "stream",
     "text": [
      "82.76817320866115\n"
     ]
    },
    {
     "name": "stdout",
     "output_type": "stream",
     "text": [
      "81.11280974448793\n"
     ]
    },
    {
     "name": "stdout",
     "output_type": "stream",
     "text": [
      "79.49055354959818\n"
     ]
    },
    {
     "name": "stdout",
     "output_type": "stream",
     "text": [
      "77.9007424786062\n"
     ]
    },
    {
     "name": "stdout",
     "output_type": "stream",
     "text": [
      "76.34272762903407\n"
     ]
    },
    {
     "name": "stdout",
     "output_type": "stream",
     "text": [
      "74.81587307645339\n"
     ]
    },
    {
     "name": "stdout",
     "output_type": "stream",
     "text": [
      "73.31955561492431\n"
     ]
    },
    {
     "name": "stdout",
     "output_type": "stream",
     "text": [
      "71.85316450262583\n"
     ]
    },
    {
     "name": "stdout",
     "output_type": "stream",
     "text": [
      "70.41610121257331\n"
     ]
    },
    {
     "name": "stdout",
     "output_type": "stream",
     "text": [
      "69.00777918832185\n"
     ]
    },
    {
     "name": "stdout",
     "output_type": "stream",
     "text": [
      "67.62762360455541\n"
     ]
    },
    {
     "name": "stdout",
     "output_type": "stream",
     "text": [
      "66.2750711324643\n"
     ]
    },
    {
     "name": "stdout",
     "output_type": "stream",
     "text": [
      "64.94956970981502\n"
     ]
    },
    {
     "name": "stdout",
     "output_type": "stream",
     "text": [
      "63.65057831561872\n"
     ]
    },
    {
     "name": "stdout",
     "output_type": "stream",
     "text": [
      "62.37756674930635\n"
     ]
    },
    {
     "name": "stdout",
     "output_type": "stream",
     "text": [
      "61.13001541432022\n"
     ]
    },
    {
     "name": "stdout",
     "output_type": "stream",
     "text": [
      "59.90741510603382\n"
     ]
    },
    {
     "name": "stdout",
     "output_type": "stream",
     "text": [
      "58.70926680391314\n"
     ]
    },
    {
     "name": "stdout",
     "output_type": "stream",
     "text": [
      "57.53508146783487\n"
     ]
    },
    {
     "name": "stdout",
     "output_type": "stream",
     "text": [
      "56.384379838478175\n"
     ]
    },
    {
     "name": "stdout",
     "output_type": "stream",
     "text": [
      "55.25669224170861\n"
     ]
    },
    {
     "name": "stdout",
     "output_type": "stream",
     "text": [
      "54.15155839687444\n"
     ]
    },
    {
     "name": "stdout",
     "output_type": "stream",
     "text": [
      "53.06852722893695\n"
     ]
    },
    {
     "name": "stdout",
     "output_type": "stream",
     "text": [
      "52.00715668435821\n"
     ]
    },
    {
     "name": "stdout",
     "output_type": "stream",
     "text": [
      "50.96701355067104\n"
     ]
    },
    {
     "name": "stdout",
     "output_type": "stream",
     "text": [
      "49.94767327965762\n"
     ]
    },
    {
     "name": "stdout",
     "output_type": "stream",
     "text": [
      "48.94871981406447\n"
     ]
    },
    {
     "name": "stdout",
     "output_type": "stream",
     "text": [
      "47.96974541778318\n"
     ]
    },
    {
     "name": "stdout",
     "output_type": "stream",
     "text": [
      "47.01035050942752\n"
     ]
    },
    {
     "name": "stdout",
     "output_type": "stream",
     "text": [
      "46.07014349923897\n"
     ]
    },
    {
     "name": "stdout",
     "output_type": "stream",
     "text": [
      "45.148740629254185\n"
     ]
    },
    {
     "name": "stdout",
     "output_type": "stream",
     "text": [
      "44.2457658166691\n"
     ]
    },
    {
     "name": "stdout",
     "output_type": "stream",
     "text": [
      "43.360850500335715\n"
     ]
    },
    {
     "name": "stdout",
     "output_type": "stream",
     "text": [
      "42.493633490329\n"
     ]
    },
    {
     "name": "stdout",
     "output_type": "stream",
     "text": [
      "41.643760820522424\n"
     ]
    },
    {
     "name": "stdout",
     "output_type": "stream",
     "text": [
      "40.810885604111974\n"
     ]
    },
    {
     "name": "stdout",
     "output_type": "stream",
     "text": [
      "39.99466789202973\n"
     ]
    },
    {
     "name": "stdout",
     "output_type": "stream",
     "text": [
      "39.194774534189136\n"
     ]
    },
    {
     "name": "stdout",
     "output_type": "stream",
     "text": [
      "38.41087904350535\n"
     ]
    },
    {
     "name": "stdout",
     "output_type": "stream",
     "text": [
      "37.642661462635246\n"
     ]
    },
    {
     "name": "stdout",
     "output_type": "stream",
     "text": [
      "36.88980823338254\n"
     ]
    },
    {
     "name": "stdout",
     "output_type": "stream",
     "text": [
      "36.15201206871489\n"
     ]
    },
    {
     "name": "stdout",
     "output_type": "stream",
     "text": [
      "35.42897182734059\n"
     ]
    },
    {
     "name": "stdout",
     "output_type": "stream",
     "text": [
      "34.720392390793776\n"
     ]
    },
    {
     "name": "stdout",
     "output_type": "stream",
     "text": [
      "34.0259845429779\n"
     ]
    },
    {
     "name": "stdout",
     "output_type": "stream",
     "text": [
      "33.34546485211834\n"
     ]
    },
    {
     "name": "stdout",
     "output_type": "stream",
     "text": [
      "32.678555555075974\n"
     ]
    },
    {
     "name": "stdout",
     "output_type": "stream",
     "text": [
      "32.02498444397445\n"
     ]
    },
    {
     "name": "stdout",
     "output_type": "stream",
     "text": [
      "31.384484755094963\n"
     ]
    },
    {
     "name": "stdout",
     "output_type": "stream",
     "text": [
      "30.756795059993063\n"
     ]
    },
    {
     "name": "stdout",
     "output_type": "stream",
     "text": [
      "30.141659158793203\n"
     ]
    },
    {
     "name": "stdout",
     "output_type": "stream",
     "text": [
      "29.53882597561734\n"
     ]
    },
    {
     "name": "stdout",
     "output_type": "stream",
     "text": [
      "28.948049456104993\n"
     ]
    },
    {
     "name": "stdout",
     "output_type": "stream",
     "text": [
      "28.36908846698289\n"
     ]
    },
    {
     "name": "stdout",
     "output_type": "stream",
     "text": [
      "27.801706697643233\n"
     ]
    },
    {
     "name": "stdout",
     "output_type": "stream",
     "text": [
      "27.24567256369037\n"
     ]
    },
    {
     "name": "stdout",
     "output_type": "stream",
     "text": [
      "26.700759112416563\n"
     ]
    },
    {
     "name": "stdout",
     "output_type": "stream",
     "text": [
      "26.16674393016823\n"
     ]
    },
    {
     "name": "stdout",
     "output_type": "stream",
     "text": [
      "25.643409051564866\n"
     ]
    },
    {
     "name": "stdout",
     "output_type": "stream",
     "text": [
      "25.13054087053357\n"
     ]
    },
    {
     "name": "stdout",
     "output_type": "stream",
     "text": [
      "24.627930053122896\n"
     ]
    },
    {
     "name": "stdout",
     "output_type": "stream",
     "text": [
      "24.135371452060436\n"
     ]
    },
    {
     "name": "stdout",
     "output_type": "stream",
     "text": [
      "23.652664023019227\n"
     ]
    },
    {
     "name": "stdout",
     "output_type": "stream",
     "text": [
      "23.179610742558843\n"
     ]
    },
    {
     "name": "stdout",
     "output_type": "stream",
     "text": [
      "22.716018527707664\n"
     ]
    },
    {
     "name": "stdout",
     "output_type": "stream",
     "text": [
      "22.26169815715351\n"
     ]
    },
    {
     "name": "stdout",
     "output_type": "stream",
     "text": [
      "21.81646419401044\n"
     ]
    },
    {
     "name": "stdout",
     "output_type": "stream",
     "text": [
      "21.38013491013023\n"
     ]
    },
    {
     "name": "stdout",
     "output_type": "stream",
     "text": [
      "20.952532211927625\n"
     ]
    },
    {
     "name": "stdout",
     "output_type": "stream",
     "text": [
      "20.533481567689073\n"
     ]
    },
    {
     "name": "stdout",
     "output_type": "stream",
     "text": [
      "20.122811936335292\n"
     ]
    },
    {
     "name": "stdout",
     "output_type": "stream",
     "text": [
      "19.720355697608586\n"
     ]
    },
    {
     "name": "stdout",
     "output_type": "stream",
     "text": [
      "19.325948583656412\n"
     ]
    },
    {
     "name": "stdout",
     "output_type": "stream",
     "text": [
      "18.939429611983282\n"
     ]
    },
    {
     "name": "stdout",
     "output_type": "stream",
     "text": [
      "18.560641019743617\n"
     ]
    },
    {
     "name": "stdout",
     "output_type": "stream",
     "text": [
      "18.189428199348743\n"
     ]
    },
    {
     "name": "stdout",
     "output_type": "stream",
     "text": [
      "17.825639635361767\n"
     ]
    },
    {
     "name": "stdout",
     "output_type": "stream",
     "text": [
      "17.469126842654532\n"
     ]
    },
    {
     "name": "stdout",
     "output_type": "stream",
     "text": [
      "17.11974430580144\n"
     ]
    },
    {
     "name": "stdout",
     "output_type": "stream",
     "text": [
      "16.77734941968541\n"
     ]
    },
    {
     "name": "stdout",
     "output_type": "stream",
     "text": [
      "16.441802431291702\n"
     ]
    },
    {
     "name": "stdout",
     "output_type": "stream",
     "text": [
      "16.112966382665867\n"
     ]
    },
    {
     "name": "stdout",
     "output_type": "stream",
     "text": [
      "15.79070705501255\n"
     ]
    },
    {
     "name": "stdout",
     "output_type": "stream",
     "text": [
      "15.4748929139123\n"
     ]
    },
    {
     "name": "stdout",
     "output_type": "stream",
     "text": [
      "15.165395055634052\n"
     ]
    },
    {
     "name": "stdout",
     "output_type": "stream",
     "text": [
      "14.86208715452137\n"
     ]
    },
    {
     "name": "stdout",
     "output_type": "stream",
     "text": [
      "14.564845411430943\n"
     ]
    },
    {
     "name": "stdout",
     "output_type": "stream",
     "text": [
      "14.273548503202324\n"
     ]
    },
    {
     "name": "stdout",
     "output_type": "stream",
     "text": [
      "13.988077533138277\n"
     ]
    },
    {
     "name": "stdout",
     "output_type": "stream",
     "text": [
      "13.708315982475511\n"
     ]
    },
    {
     "name": "stdout",
     "output_type": "stream",
     "text": [
      "13.434149662826002\n"
     ]
    },
    {
     "name": "stdout",
     "output_type": "stream",
     "text": [
      "13.165466669569481\n"
     ]
    },
    {
     "name": "stdout",
     "output_type": "stream",
     "text": [
      "12.90215733617809\n"
     ]
    },
    {
     "name": "stdout",
     "output_type": "stream",
     "text": [
      "12.644114189454529\n"
     ]
    }
   ],
   "source": [
    "# 开始模拟退火算法\n",
    "result = []\n",
    "\n",
    "# 随机产生初始结果，这里直接顺序添加\n",
    "for i in range(city_cnt):\n",
    "    result.append(i)\n",
    "# 定义初始温度\n",
    "T = 5000\n",
    "# 最低温度\n",
    "T_min = 1e-8\n",
    "# 冷却率\n",
    "cooling_rate = 0.98\n",
    "# 每次退火时，迭代次数\n",
    "iterors = 5000\n",
    "# 记录有多少次新解没有被采纳\n",
    "no_cnt = 0\n",
    "# 记录解的变化\n",
    "result_record = []\n",
    "while T > T_min:\n",
    "    for i in range(iterors):\n",
    "        result_record.append(calTotalDistance(result))\n",
    "        new_result = generate_new_result(result)\n",
    "        # 判断新解和旧解哪个更好,这里需要注意新解-旧解, diff的正负会影响采纳新解的概率\n",
    "        diff = calTotalDistance(new_result) - calTotalDistance(result)\n",
    "        # 新解更好， 因为result>new_result\n",
    "        if diff < 0:\n",
    "            # 重新计数\n",
    "            no_cnt = 0\n",
    "            # 采纳新解\n",
    "            result = new_result[:]\n",
    "        else:\n",
    "            no_cnt += 1\n",
    "            # 新解更坏，这时候以一定几率踩纳\n",
    "            P = pow(math.e, diff/T)\n",
    "            # 如果随机数在概率之内，则采纳\n",
    "            if random.random() < P:\n",
    "                result = new_result[:]\n",
    "    # 退火降温\n",
    "    T = T * cooling_rate\n",
    "    print(T)\n",
    "    # 超过5000次没有被采纳，则结束迭代\n",
    "    if no_cnt > 5000:\n",
    "        break\n",
    "                "
   ]
  },
  {
   "cell_type": "code",
   "execution_count": 11,
   "metadata": {},
   "outputs": [],
   "source": [
    "plt.plot(result_record)\n",
    "plt.show()"
   ]
  },
  {
   "cell_type": "code",
   "execution_count": null,
   "metadata": {},
   "outputs": [],
   "source": []
  }
 ],
 "metadata": {
  "kernelspec": {
   "display_name": "Python 2",
   "language": "python",
   "name": "python2"
  },
  "language_info": {
   "codemirror_mode": {
    "name": "ipython",
    "version": 2
   },
   "file_extension": ".py",
   "mimetype": "text/x-python",
   "name": "python",
   "nbconvert_exporter": "python",
   "pygments_lexer": "ipython2",
   "version": "2.7.6"
  }
 },
 "nbformat": 4,
 "nbformat_minor": 0
}
